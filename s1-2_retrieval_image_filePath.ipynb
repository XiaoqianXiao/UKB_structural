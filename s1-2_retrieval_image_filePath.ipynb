{
 "cells": [
  {
   "cell_type": "code",
   "execution_count": null,
   "id": "f556359f864d7542",
   "metadata": {},
   "outputs": [],
   "source": [
    "%%bash\n",
    "# Function: extract_eids\n",
    "# Description:\n",
    "# On the RAP imaging data can be found within the bulk folder within a dispensed project. \n",
    "# Each image type/sequence per paricipant is in a zip file  with naming convention *{eid}_{field_id}_{instance_0}.zip*. \n",
    "# This function checks the field id is a bulk imaging field and if it is searches and gathers all file paths for a specified field id and extracts specific parameters. \n",
    "# The results are written to an output file in csv format.\n",
    "#\n",
    "# Parameters:\n",
    "#   $1 - output_file: The file where the results will be saved.\n",
    "#   $@ - field_ids: An array of field IDs to search and process. These field_ids should be bulk imaging fields.\n",
    "#\n",
    "# Usage:\n",
    "#   extract_eids \"output.csv\" 20204 20254\n",
    "\n",
    "extract_eids(){\n",
    " local output_file=\"$1\"\n",
    " shift\n",
    " local field_ids=(\"$@\")\n",
    "\n",
    " # Print header to the output file if it doesn't exist\n",
    " if [ ! -f \"$output_file\" ]; then\n",
    "   echo \"filepath,param,eid,field_id,ins\" > \"$output_file\"\n",
    " fi\n",
    "\n",
    " for field_id in \"${field_ids[@]}\"; do\n",
    "   # Capture the first line of output with timeout for reading\n",
    "   first_line=$( dx find data --property field_id=\"$field_id\" 2>/dev/null | head -n 1)\n",
    "    \n",
    "   if [[ \"$first_line\" == *\"Bulk\"* ]]; then\n",
    "     # 'Bulk' found in the filepath, process this field_id\n",
    "     dx find data --property field_id=\"$field_id\" 2>/dev/null | awk -F'/' '\n",
    "     { # Find the index of \"/Bulk/\"\n",
    "       start_index = index($0, \"/Bulk/\")\n",
    "       # Find the index of \".zip\"\n",
    "       end_index = index($0, \".zip\") + 4\n",
    "       # Extract filepath starting from \"/Bulk/\" up to \".zip\"\n",
    "       filepath = substr($0, start_index, end_index - start_index)\n",
    "       split($6, a, \"_\")\n",
    "       param = $4\n",
    "       eid = a[1]\n",
    "       field_id = a[2]\n",
    "       ins = a[3]\n",
    "       print filepath \",\" param \",\" eid \",\" field_id \",\" ins\n",
    "     }\n",
    "     ' >> \"$output_file\"\n",
    "   else\n",
    "     # 'Bulk' not found in the filepath\n",
    "     echo \"Field ID $field_id is not a bulk field.\"\n",
    "   fi\n",
    " done\n",
    "}"
   ]
  },
  {
   "cell_type": "code",
   "execution_count": null,
   "id": "ef05e15e220b1a40",
   "metadata": {},
   "outputs": [],
   "source": [
    "#fMRI_fields = ['31016','31018','31019','31015','31014']\n",
    "# 31016\tfMRI timeseries Glasser\tFunctional time series\n",
    "# 31018 fMRI timeseries Schaefer7ns 100p to 1000p\n",
    "# 31019 fMRI timeseries Tian Subcortex S1 to S4 3T\n",
    "# 31015 fMRI timeseries aparc\tFunctional time series\n",
    "# 31014 fMRI timeseries aparc\n",
    "\n",
    "#!extract_eids \"imaging_eids.csv\" 31016 31018 31019 31015 31014 31022\n",
    "!extract_eids \"imaging_eids.csv\" 31023"
   ]
  },
  {
   "cell_type": "code",
   "execution_count": null,
   "id": "ae919771c9468b6a",
   "metadata": {},
   "outputs": [],
   "source": [
    "!dx upload \"imaging_eids.csv\""
   ]
  }
 ],
 "metadata": {
  "kernelspec": {
   "display_name": "Python 3",
   "language": "python",
   "name": "python3"
  },
  "language_info": {
   "codemirror_mode": {
    "name": "ipython",
    "version": 2
   },
   "file_extension": ".py",
   "mimetype": "text/x-python",
   "name": "python",
   "nbconvert_exporter": "python",
   "pygments_lexer": "ipython2",
   "version": "2.7.6"
  }
 },
 "nbformat": 4,
 "nbformat_minor": 5
}
