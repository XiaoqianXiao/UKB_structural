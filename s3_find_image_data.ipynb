{
 "cells": [
  {
   "metadata": {},
   "cell_type": "code",
   "outputs": [],
   "execution_count": null,
   "source": [
    "%%bash\n",
    "# Function: extract_eids\n",
    "# Description:\n",
    "# On the RAP imaging data can be found within the bulk folder within a dispensed project. \n",
    "# Each image type/sequence per paricipant is in a zip file  with naming convention *{eid}_{field_id}_{instance_0}.zip*. \n",
    "# This function checks the field id is a bulk imaging field and if it is searches and gathers all file paths for a specified field id and extracts specific parameters. \n",
    "# The results are written to an output file in csv format.\n",
    "#\n",
    "# Parameters:\n",
    "#   $1 - output_file: The file where the results will be saved.\n",
    "#   $@ - field_ids: An array of field IDs to search and process. These field_ids should be bulk imaging fields.\n",
    "#\n",
    "# Usage:\n",
    "#   extract_eids \"output.csv\" 20204 20254\n",
    "\n",
    "extract_eids(){\n",
    " local output_file=\"$1\"\n",
    " shift\n",
    " local field_ids=(\"$@\")\n",
    "\n",
    " # Print header to the output file if it doesn't exist\n",
    " if [ ! -f \"$output_file\" ]; then\n",
    "   echo \"filepath,param,eid,field_id,ins\" > \"$output_file\"\n",
    " fi\n",
    "\n",
    " for field_id in \"${field_ids[@]}\"; do\n",
    "   # Capture the first line of output with timeout for reading\n",
    "   first_line=$( dx find data --property field_id=\"$field_id\" 2>/dev/null | head -n 1)\n",
    "    \n",
    "   if [[ \"$first_line\" == *\"Bulk\"* ]]; then\n",
    "     # 'Bulk' found in the filepath, process this field_id\n",
    "     dx find data --property field_id=\"$field_id\" 2>/dev/null | awk -F'/' '\n",
    "     { # Find the index of \"/Bulk/\"\n",
    "       start_index = index($0, \"/Bulk/\")\n",
    "       # Find the index of \".zip\"\n",
    "       end_index = index($0, \".zip\") + 4\n",
    "       # Extract filepath starting from \"/Bulk/\" up to \".zip\"\n",
    "       filepath = substr($0, start_index, end_index - start_index)\n",
    "       split($6, a, \"_\")\n",
    "       param = $4\n",
    "       eid = a[1]\n",
    "       field_id = a[2]\n",
    "       ins = a[3]\n",
    "       print filepath \",\" param \",\" eid \",\" field_id \",\" ins\n",
    "     }\n",
    "     ' >> \"$output_file\"\n",
    "   else\n",
    "     # 'Bulk' not found in the filepath\n",
    "     echo \"Field ID $field_id is not a bulk field.\"\n",
    "   fi\n",
    " done\n",
    "}"
   ],
   "id": "f556359f864d7542"
  },
  {
   "metadata": {},
   "cell_type": "code",
   "outputs": [],
   "execution_count": null,
   "source": [
    "#fMRI_fields = ['31016','31018','31019','31015','31014']\n",
    "# 31016\tfMRI timeseries Glasser\tFunctional time series\n",
    "# 31018 fMRI timeseries Schaefer7ns 100p to 1000p\n",
    "# 31019 fMRI timeseries Tian Subcortex S1 to S4 3T\n",
    "# 31015 fMRI timeseries aparc\tFunctional time series\n",
    "# 31014 fMRI timeseries aparc\n",
    "\n",
    "!extract_eids \"imaging_eids.csv\" 31016 31018 31019 31015 31014"
   ],
   "id": "ef05e15e220b1a40"
  },
  {
   "metadata": {},
   "cell_type": "code",
   "outputs": [],
   "execution_count": null,
   "source": "!dx upload \"imaging_eids.csv\"",
   "id": "ae919771c9468b6a"
  },
  {
   "metadata": {
    "ExecuteTime": {
     "end_time": "2024-12-16T18:24:57.486395Z",
     "start_time": "2024-12-16T18:24:57.351351Z"
    }
   },
   "cell_type": "code",
   "source": [
    "#for test\n",
    "#awk -F',' 'NR > 1 && NR <= 1000 {print $1}' anxiety_fMRI_participants.csv > file_paths1.txt\n",
    "#awk -F',' 'NR > 48302 {print $1}' anxiety_fMRI_participants.csv > file_paths.txt\n",
    "#for all\n",
    "!awk -F',' '{print $1}' need_download_data_set.csv > file_paths.txt"
   ],
   "id": "7b2c535495584b49",
   "outputs": [],
   "execution_count": 1
  },
  {
   "metadata": {},
   "cell_type": "code",
   "outputs": [],
   "execution_count": null,
   "source": [
    "%%bash\n",
    "# Function: download_imaging_files()\n",
    "# Description:\n",
    "#   This function automates the download of imaging files from a RAP project based\n",
    "#   on paths specified in a txt file.\n",
    "#\n",
    "# Parameters:\n",
    "#   $1 - A txt file containing file paths to bulk imaging files on the RAP\n",
    "#\n",
    "# Example Usage:\n",
    "#  download_imaging_files file_paths.txt\n",
    "\n",
    "download_imaging_files() {\n",
    "  # Check if the file_paths.txt argument is provided and exists\n",
    "  if [[ -z \"$1\" || ! -f \"$1\" ]]; then\n",
    "    echo \"Error: file_paths.txt is not provided.\"\n",
    "    return 1\n",
    "  fi\n",
    "\n",
    "  # Get the project ID\n",
    "  local PR\n",
    "  PR=$(dx env | grep project- | cut -f 2)\n",
    "  \n",
    "  # Check if the project ID was successfully retrieved\n",
    "  if [[ -z \"$PR\" ]]; then\n",
    "    echo \"Error: Could not retrieve project ID.\"\n",
    "    return 1\n",
    "  fi\n",
    "\n",
    "  # Construct and execute the dx download commands for each line in the file_paths.txt\n",
    "  local file_paths_file=$1\n",
    "  local $output_dir=$2\n",
    "  while IFS= read -r file_path; do\n",
    "    local command=\"dx download --lightweight ${PR}:\\\"${file_path}\\\" -o $output_dir\"\n",
    "    eval \"$command\"\n",
    "  done < \"$file_paths_file\"\n",
    "}"
   ],
   "id": "aaf99f8790eb7706"
  },
  {
   "metadata": {},
   "cell_type": "code",
   "outputs": [],
   "execution_count": null,
   "source": [
    "current_dir=$(pwd)\n",
    "output_dir=\"${current_dir}/data\"\n",
    "download_imaging_files file_paths.txt $output_dir"
   ],
   "id": "aab3e63346aa6b06"
  },
  {
   "metadata": {
    "ExecuteTime": {
     "end_time": "2024-09-27T18:01:17.096320Z",
     "start_time": "2024-09-27T18:01:16.934373Z"
    }
   },
   "cell_type": "code",
   "source": [
    "import pandas as pd\n",
    "import os\n",
    "# Get the current working directory\n",
    "current_dir = os.getcwd()\n",
    "df = pd.read_csv(\"need_download_data_set.csv\")\n",
    "df_name = df['filepath'].str.split(r'[/]', expand=True)[5]\n",
    "data_path = os.path.join(current_dir, 'data/output.txt')\n",
    "df_name.to_csv(data_path, sep='\\t', index=False, header=False)\n",
    "#only if data did not fully downloaded\n",
    "#df_name_left=df_name.iloc[48301:,]\n",
    "#df_name_left.to_csv('output.txt', sep='\\t', index=False, header=False)"
   ],
   "id": "629fa61b6c78cba4",
   "outputs": [],
   "execution_count": 3
  },
  {
   "metadata": {},
   "cell_type": "code",
   "outputs": [],
   "execution_count": null,
   "source": [
    "%%bash\n",
    "# Function: upload_imaging_files()\n",
    "# Description:\n",
    "#   This function automates the download of imaging files from a RAP project based\n",
    "#   on paths specified in a txt file.\n",
    "#\n",
    "# Parameters:\n",
    "#   $1 - A txt file containing file paths to bulk imaging files on the RAP\n",
    "#\n",
    "# Example Usage:\n",
    "#  upload_imaging_files file_paths.txt \n",
    "\n",
    "upload_imaging_files() {\n",
    "  # Check if the file_paths.txt argument is provided and exists\n",
    "  if [[ -z \"$1\" || ! -f \"$1\" ]]; then\n",
    "    echo \"Error: file_paths.txt is not provided.\"\n",
    "    return 1\n",
    "  fi\n",
    "\n",
    "  # Get the project ID\n",
    "  local PR\n",
    "  PR=$(dx env | grep project- | cut -f 2)\n",
    "  \n",
    "  # Check if the project ID was successfully retrieved\n",
    "  if [[ -z \"$PR\" ]]; then\n",
    "    echo \"Error: Could not retrieve project ID.\"\n",
    "    return 1\n",
    "  fi\n",
    "\n",
    "  # Construct and execute the dx download commands for each line in the file_paths.txt\n",
    "  local file_paths_file=$1\n",
    "  while IFS= read -r file_path; do\n",
    "    local command=\"dx upload \"${file_path}\" --path \"/data/\"\"\n",
    "    eval \"$command\"\n",
    "  done < \"$file_paths_file\"\n",
    "}"
   ],
   "id": "6f5e5c033fc4878d"
  },
  {
   "metadata": {},
   "cell_type": "code",
   "outputs": [],
   "execution_count": null,
   "source": "!upload_imaging_files output.txt",
   "id": "4d020f6371b152a"
  },
  {
   "metadata": {},
   "cell_type": "code",
   "outputs": [],
   "execution_count": null,
   "source": "",
   "id": "395f2a4a38abe7a3"
  }
 ],
 "metadata": {
  "kernelspec": {
   "display_name": "Python 3",
   "language": "python",
   "name": "python3"
  },
  "language_info": {
   "codemirror_mode": {
    "name": "ipython",
    "version": 2
   },
   "file_extension": ".py",
   "mimetype": "text/x-python",
   "name": "python",
   "nbconvert_exporter": "python",
   "pygments_lexer": "ipython2",
   "version": "2.7.6"
  }
 },
 "nbformat": 4,
 "nbformat_minor": 5
}
