{
 "cells": [
  {
   "cell_type": "code",
   "execution_count": null,
   "id": "7b2c535495584b49",
   "metadata": {
    "ExecuteTime": {
     "end_time": "2024-12-16T18:24:57.486395Z",
     "start_time": "2024-12-16T18:24:57.351351Z"
    }
   },
   "outputs": [],
   "source": [
    "#local\n",
    "#for test\n",
    "#awk -F',' 'NR > 1 && NR <= 1000 {print $1}' anxiety_fMRI_participants.csv > file_paths1.txt\n",
    "#awk -F',' 'NR > 48302 {print $1}' anxiety_fMRI_participants.csv > file_paths.txt\n",
    "#for all\n",
    "!awk -F',' '{print $1}' gad7_need_data_set.csv > file_paths.txt"
   ]
  },
  {
   "cell_type": "code",
   "execution_count": null,
   "id": "aaf99f8790eb7706",
   "metadata": {},
   "outputs": [],
   "source": [
    "%%bash\n",
    "# Function: download_imaging_files()\n",
    "# Description:\n",
    "#   This function automates the download of imaging files from a RAP project based\n",
    "#   on paths specified in a txt file.\n",
    "#\n",
    "# Parameters:\n",
    "#   $1 - A txt file containing file paths to bulk imaging files on the RAP\n",
    "#\n",
    "# Example Usage:\n",
    "#  download_imaging_files file_paths.txt\n",
    "\n",
    "download_imaging_files() {\n",
    "  # Check if the file_paths.txt argument is provided and exists\n",
    "  if [[ -z \"$1\" || ! -f \"$1\" ]]; then\n",
    "    echo \"Error: file_paths.txt is not provided.\"\n",
    "    return 1\n",
    "  fi\n",
    "\n",
    "  # Get the project ID\n",
    "  local PR\n",
    "  PR=$(dx env | grep project- | cut -f 2)\n",
    "  \n",
    "  # Check if the project ID was successfully retrieved\n",
    "  if [[ -z \"$PR\" ]]; then\n",
    "    echo \"Error: Could not retrieve project ID.\"\n",
    "    return 1\n",
    "  fi\n",
    "\n",
    "  # Construct and execute the dx download commands for each line in the file_paths.txt\n",
    "  local file_paths_file=$1\n",
    "  local $output_dir=$2\n",
    "  while IFS= read -r file_path; do\n",
    "    local command=\"dx download --lightweight ${PR}:\\\"${file_path}\\\" -o $output_dir\"\n",
    "    eval \"$command\"\n",
    "  done < \"$file_paths_file\"\n",
    "}"
   ]
  },
  {
   "cell_type": "code",
   "execution_count": null,
   "id": "aab3e63346aa6b06",
   "metadata": {},
   "outputs": [],
   "source": [
    "current_dir=$(pwd)\n",
    "output_dir=\"${current_dir}/data_structural\"\n",
    "download_imaging_files file_paths.txt $output_dir"
   ]
  },
  {
   "cell_type": "code",
   "execution_count": 1,
   "id": "629fa61b6c78cba4",
   "metadata": {
    "ExecuteTime": {
     "end_time": "2024-09-27T18:01:17.096320Z",
     "start_time": "2024-09-27T18:01:16.934373Z"
    }
   },
   "outputs": [],
   "source": [
    "import pandas as pd\n",
    "import os\n",
    "# Get the current working directory\n",
    "current_dir = os.getcwd()\n",
    "df = pd.read_csv(\"gad7_need_data_set.csv\")\n",
    "df_name = df['filepath'].str.split(r'[/]', expand=True)[5]\n",
    "data_path = os.path.join(current_dir, 'output.txt')\n",
    "df_name.to_csv(data_path, sep='\\t', index=False, header=False)\n",
    "#only if data did not fully downloaded\n",
    "#df_name_left=df_name.iloc[48301:,]\n",
    "#df_name_left.to_csv('output.txt', sep='\\t', index=False, header=False)"
   ]
  },
  {
   "cell_type": "code",
   "execution_count": null,
   "id": "6f5e5c033fc4878d",
   "metadata": {},
   "outputs": [],
   "source": [
    "%%bash\n",
    "# Function: upload_imaging_files()\n",
    "# Description:\n",
    "#   This function automates the download of imaging files from a RAP project based\n",
    "#   on paths specified in a txt file.\n",
    "#\n",
    "# Parameters:\n",
    "#   $1 - A txt file containing file paths to bulk imaging files on the RAP\n",
    "#\n",
    "# Example Usage:\n",
    "#  upload_imaging_files file_paths.txt \n",
    "\n",
    "upload_imaging_files() {\n",
    "  # Check if the file_paths.txt argument is provided and exists\n",
    "  if [[ -z \"$1\" || ! -f \"$1\" ]]; then\n",
    "    echo \"Error: file_paths.txt is not provided.\"\n",
    "    return 1\n",
    "  fi\n",
    "\n",
    "  # Get the project ID\n",
    "  local PR\n",
    "  PR=$(dx env | grep project- | cut -f 2)\n",
    "  \n",
    "  # Check if the project ID was successfully retrieved\n",
    "  if [[ -z \"$PR\" ]]; then\n",
    "    echo \"Error: Could not retrieve project ID.\"\n",
    "    return 1\n",
    "  fi\n",
    "\n",
    "  # Construct and execute the dx download commands for each line in the file_paths.txt\n",
    "  local file_paths_file=$1\n",
    "  while IFS= read -r file_path; do\n",
    "    local command=\"dx upload \"${file_path}\" --path \"/data_structural/\"\"\n",
    "    eval \"$command\"\n",
    "  done < \"$file_paths_file\"\n",
    "}"
   ]
  },
  {
   "cell_type": "code",
   "execution_count": null,
   "id": "4d020f6371b152a",
   "metadata": {},
   "outputs": [],
   "source": [
    "!upload_imaging_files output.txt"
   ]
  },
  {
   "cell_type": "code",
   "execution_count": null,
   "id": "395f2a4a38abe7a3",
   "metadata": {},
   "outputs": [],
   "source": []
  }
 ],
 "metadata": {
  "kernelspec": {
   "display_name": "base",
   "language": "python",
   "name": "python3"
  },
  "language_info": {
   "codemirror_mode": {
    "name": "ipython",
    "version": 3
   },
   "file_extension": ".py",
   "mimetype": "text/x-python",
   "name": "python",
   "nbconvert_exporter": "python",
   "pygments_lexer": "ipython3",
   "version": "3.11.9"
  }
 },
 "nbformat": 4,
 "nbformat_minor": 5
}
