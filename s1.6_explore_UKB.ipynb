{
 "cells": [
  {
   "cell_type": "code",
   "id": "initial_id",
   "metadata": {
    "collapsed": true,
    "ExecuteTime": {
     "end_time": "2025-06-02T22:02:41.729019Z",
     "start_time": "2025-06-02T22:02:41.727688Z"
    }
   },
   "source": [
    "import pandas as pd\n",
    "import numpy as np\n",
    "import os\n",
    "import re\n",
    "import ast"
   ],
   "outputs": [],
   "execution_count": 1
  },
  {
   "metadata": {
    "ExecuteTime": {
     "end_time": "2025-06-02T22:02:43.862175Z",
     "start_time": "2025-06-02T22:02:43.059034Z"
    }
   },
   "cell_type": "code",
   "source": [
    "data_dir = '/Users/xiaoqianxiao/UKB/data'\n",
    "participantsInfo_file = 'participants.csv'\n",
    "participantsInfo_file_path = os.path.join(data_dir,participantsInfo_file)\n",
    "participantsInfo = pd.read_csv(participantsInfo_file_path)"
   ],
   "id": "a04f1a763685b475",
   "outputs": [],
   "execution_count": 2
  },
  {
   "metadata": {
    "ExecuteTime": {
     "end_time": "2025-06-02T22:02:44.492834Z",
     "start_time": "2025-06-02T22:02:44.487698Z"
    }
   },
   "cell_type": "code",
   "source": [
    "neuroticism_fields = ['1920', '1930', '1940', '1950', '1960', '1970', '1980', '1990', \n",
    "                      '2000', '2010', '2020', '2030']\n",
    "anxietyTrait_baseline_fields = ['1970_2', '1980_2', '1990_2', \n",
    "                      '2000_2', '2010_2']\n",
    "anxietyTrait_followup_fields = ['1970_3', '1980_3', '1990_3', \n",
    "                      '2000_3', '2010_3']\n",
    "# anxiety status files:\n",
    "anxiety_status_fields = ['1970','1980','1990','2070']\n",
    "#demographic factors' field ids, including: eid, sex, age at the first scan, IQ and EA (5)\n",
    "demographic_fields = ['31','21003_i2','20016_i2','6138_i2']\n",
    "# current depression or anxiety status while scanning (3)\n",
    "current_status_fields = ['2050_i2','2060_i2','2070_i2']\n",
    "# Self_Reported_Mental_Health (1)\n",
    "Self_Reported_Mental_Health_fields = ['29000','20002_i2','21062']\n",
    "# Ever_Diagnosed_Mental_Health_Problem (1)\n",
    "Ever_Diagnosed_Mental_Health_Problem_fields = ['20544']\n",
    "# Self reported history depression: CIDI (13)\n",
    "history_depression_fields = ['20436','20439','20440','20446','20441','20449','20536','20532','20435','20450','20437']\n",
    "# Self reported history anxiety: CIDI (18)\n",
    "history_anxiety_fields = ['20421','20420','20538','20425','20542','20543','20540','20541','20539','20537','20418','20426','20423','20429','20419','20422','20417','20427']\n",
    "# PHQ (9)\n",
    "PHQ_fields = ['20514','20510','20517','20519','20511','20507','20508','20518','20513']\n",
    "# GAD7 (7)\n",
    "GAD7_fields = ['20506','20509','20520','20515','20516','20505','20512']\n",
    "GAD7_followup_fields = ['28735','29059','29060','29061','29062','29063','29064']\n",
    "# hospital data: ICD10 and ICD9 (2)\n",
    "hospital_data_fields = ['41270','41271']\n",
    "# fMRI data\n",
    "fMRI_fields = ['31016','31018','31019','31015','31014']\n",
    "control_fields = ['20544','20002','20514','20510','20517','20519','20511','20507','20508','20518','20513', '20506','20509','20520','20515','20516','20505','20512']\n",
    "all_fields_ids = demographic_fields + current_status_fields + Ever_Diagnosed_Mental_Health_Problem_fields + history_depression_fields + history_anxiety_fields + PHQ_fields + GAD7_fields + GAD7_followup_fields + hospital_data_fields + control_fields + fMRI_fields + Self_Reported_Mental_Health_fields + anxiety_status_fields + neuroticism_fields\n",
    "print(\"Number of  all fields needed: \", len(all_fields_ids))"
   ],
   "id": "f047b54496934c30",
   "outputs": [
    {
     "name": "stdout",
     "output_type": "stream",
     "text": [
      "Number of  all fields needed:  104\n"
     ]
    }
   ],
   "execution_count": 3
  },
  {
   "metadata": {
    "ExecuteTime": {
     "end_time": "2025-06-02T22:02:45.531239Z",
     "start_time": "2025-06-02T22:02:45.527821Z"
    }
   },
   "cell_type": "code",
   "source": [
    "def fields_for_id_x(field_id):\n",
    "    field_id = str(field_id)\n",
    "    field_items = re.split(r'[,\\s_]+', field_id)\n",
    "    if len(field_items) == 1:\n",
    "        fields = 'p{}'.format(field_items[0])\n",
    "    elif len(field_items) == 2:\n",
    "        fields = 'p{}_i{}'.format(field_items[0], field_items[1])\n",
    "    return fields\n",
    "\n",
    "import pandas as pd\n",
    "from ast import literal_eval as safe_literal_eval\n",
    "import numpy as np\n",
    "\n",
    "def extract_strings(target_prefixes, icd_codes):\n",
    "    \"\"\"\n",
    "    Extract ICD-10 codes that start with any of the target prefixes.\n",
    "    \n",
    "    Parameters:\n",
    "    - target_prefixes (list): List of prefixes to match.\n",
    "    - icd_codes (list): List of ICD-10 codes.\n",
    "\n",
    "    Returns:\n",
    "    - list: List of matching ICD-10 codes.\n",
    "    \"\"\"\n",
    "    return [code for code in icd_codes if any(code.startswith(prefix) for prefix in target_prefixes)]\n"
   ],
   "id": "7deb1660761f2fcb",
   "outputs": [],
   "execution_count": 4
  },
  {
   "metadata": {
    "ExecuteTime": {
     "end_time": "2025-06-02T22:02:57.640177Z",
     "start_time": "2025-06-02T22:02:46.535573Z"
    }
   },
   "cell_type": "code",
   "source": [
    "import pandas as pd\n",
    "import ast\n",
    "\n",
    "dl = []\n",
    "\n",
    "for i in range(participantsInfo.shape[0]):\n",
    "    value = participantsInfo['p6138_i2'].iloc[i]\n",
    "    \n",
    "    if pd.notna(value):\n",
    "        try:\n",
    "            parsed = ast.literal_eval(value) if isinstance(value, str) and value.strip().startswith('[') else value\n",
    "            if isinstance(parsed, list):\n",
    "                max_val = max(parsed)\n",
    "            else:\n",
    "                max_val = parsed\n",
    "\n",
    "            if max_val == -3 or max_val == -7:\n",
    "                dl.append(participantsInfo.index[i])\n",
    "            elif max_val == 1:\n",
    "                participantsInfo.loc[i, 'p6138_i2'] = 20\n",
    "            elif max_val == 2:\n",
    "                participantsInfo.loc[i, 'p6138_i2'] = 13\n",
    "            elif max_val in [3, 4]:\n",
    "                participantsInfo.loc[i, 'p6138_i2'] = 10\n",
    "            elif max_val == 5:\n",
    "                participantsInfo.loc[i, 'p6138_i2'] = 19\n",
    "            elif max_val == 6:\n",
    "                participantsInfo.loc[i, 'p6138_i2'] = 15\n",
    "        except (ValueError, SyntaxError):\n",
    "            print(f\"Skipping row {i} due to parse error: {value}\")\n",
    "    # NaNs are ignored as per original code\n",
    "\n",
    "# Drop the unwanted rows\n",
    "participantsInfo.drop(dl, inplace=True)\n"
   ],
   "id": "74f4e0a6fbd92aeb",
   "outputs": [],
   "execution_count": 5
  },
  {
   "metadata": {
    "ExecuteTime": {
     "end_time": "2025-06-02T22:02:58.630439Z",
     "start_time": "2025-06-02T22:02:58.522759Z"
    }
   },
   "cell_type": "code",
   "source": "participants_with_anxietyTrailt.shape",
   "id": "cc84943d4b7713bf",
   "outputs": [
    {
     "ename": "NameError",
     "evalue": "name 'participants_with_anxietyTrailt' is not defined",
     "output_type": "error",
     "traceback": [
      "\u001B[0;31m---------------------------------------------------------------------------\u001B[0m",
      "\u001B[0;31mNameError\u001B[0m                                 Traceback (most recent call last)",
      "Cell \u001B[0;32mIn[6], line 1\u001B[0m\n\u001B[0;32m----> 1\u001B[0m \u001B[43mparticipants_with_anxietyTrailt\u001B[49m\u001B[38;5;241m.\u001B[39mshape\n",
      "\u001B[0;31mNameError\u001B[0m: name 'participants_with_anxietyTrailt' is not defined"
     ]
    }
   ],
   "execution_count": 6
  },
  {
   "metadata": {
    "ExecuteTime": {
     "end_time": "2025-06-02T22:03:02.368691Z",
     "start_time": "2025-06-02T22:03:02.346199Z"
    }
   },
   "cell_type": "code",
   "source": [
    "# get subset with participants have EA data series:\n",
    "participants_withEA = participantsInfo.dropna(subset=['p6138_i2'])\n",
    "# deal with GAD nan and prefer not to response\n",
    "anxietyTrailt_fields_name = [fields_for_id_x(field) for field in anxietyTrait_followup_fields+anxietyTrait_baseline_fields]\n",
    "# get subset with participants with GAD record:\n",
    "participants_with_anxietyTrailt = participants_withEA.dropna(subset=anxietyTrailt_fields_name)\n",
    "# get subset with participants with GAD response: get rid of -818 \n",
    "participants_anxietyTrailt = participants_with_anxietyTrailt[~participants_with_anxietyTrailt[anxietyTrailt_fields_name].isin([-1,-3]).any(axis=1)]\n",
    "# get subset with participants have fMRI data series:\n",
    "participants_withfMRI_cortical = participants_anxietyTrailt.dropna(subset=['p31016_i2'])\n",
    "participants_withfMRI = participants_withfMRI_cortical.dropna(subset=['p31019_i2'])\n",
    "print(\"number of participants with fMRI time series: {}\".format(participants_withfMRI.shape[0]))\n",
    "df_fMRI = pd.DataFrame(participants_withfMRI['eid'])"
   ],
   "id": "ce7ece7c45d65178",
   "outputs": [
    {
     "name": "stdout",
     "output_type": "stream",
     "text": [
      "number of participants with fMRI time series: 968\n"
     ]
    }
   ],
   "execution_count": 7
  },
  {
   "metadata": {
    "ExecuteTime": {
     "end_time": "2025-06-02T22:03:03.893925Z",
     "start_time": "2025-06-02T22:03:03.889988Z"
    }
   },
   "cell_type": "code",
   "source": "participants_withfMRI.columns",
   "id": "c5d3ca4f6daa12ab",
   "outputs": [
    {
     "data": {
      "text/plain": [
       "Index(['Unnamed: 0.5', 'Unnamed: 0.4', 'Unnamed: 0.3', 'Unnamed: 0.2',\n",
       "       'Unnamed: 0.1', 'Unnamed: 0', 'eid', 'p3063_i0_a0', 'p3063_i0_a1',\n",
       "       'p3063_i0_a2',\n",
       "       ...\n",
       "       'p2030_i0', 'p2030_i1', 'p2030_i2', 'p2030_i3',\n",
       "       'kdm_ba_InitialAssessmentVisit',\n",
       "       'kdm_acceleration_InitialAssessmentVisit',\n",
       "       'kdm_ba_RepeatAssessmentVisit',\n",
       "       'kdm_acceleration_RepeatAssessmentVisit', 'GAD_baseline',\n",
       "       'GAD_followup'],\n",
       "      dtype='object', length=337)"
      ]
     },
     "execution_count": 8,
     "metadata": {},
     "output_type": "execute_result"
    }
   ],
   "execution_count": 8
  },
  {
   "metadata": {
    "ExecuteTime": {
     "end_time": "2025-06-02T22:03:04.819944Z",
     "start_time": "2025-06-02T22:03:04.796469Z"
    }
   },
   "cell_type": "code",
   "source": [
    "# get subset with participants have EA data series:\n",
    "participants_withEA = participantsInfo.dropna(subset=['p6138_i2'])\n",
    "# deal with GAD nan and prefer not to response\n",
    "anxietyTrailt_fields_name = [fields_for_id_x(field) for field in anxietyTrait_followup_fields+anxietyTrait_baseline_fields]\n",
    "# get subset with participants with GAD record:\n",
    "participants_with_anxietyTrailt = participants_withEA.dropna(subset=anxietyTrailt_fields_name)\n",
    "# get subset with participants with GAD response: get rid of -818 \n",
    "participants_anxietyTrailt = participants_with_anxietyTrailt[~participants_with_anxietyTrailt[anxietyTrailt_fields_name].isin([-1,-3]).any(axis=1)]\n",
    "# get subset with participants have fMRI data series:\n",
    "participants_withfMRI_cortical_repeat = participants_anxietyTrailt.dropna(subset=['p31016_i2', 'p31016_i3'])\n",
    "participants_withfMRI_repeat = participants_withfMRI_cortical_repeat.dropna(subset=['p31019_i2', 'p31019_i3'])\n",
    "print(\"number of participants with fMRI time series: {}\".format(participants_withfMRI_repeat.shape[0]))\n",
    "df_fMRI_repeat = pd.DataFrame(participants_withfMRI_repeat['eid'])"
   ],
   "id": "2ee39633a7a480c5",
   "outputs": [
    {
     "name": "stdout",
     "output_type": "stream",
     "text": [
      "number of participants with fMRI time series: 408\n"
     ]
    }
   ],
   "execution_count": 9
  },
  {
   "metadata": {
    "ExecuteTime": {
     "end_time": "2025-06-02T22:03:05.897210Z",
     "start_time": "2025-06-02T22:03:05.882837Z"
    }
   },
   "cell_type": "code",
   "source": [
    "l1 = []\n",
    "l2 = []\n",
    "for i in range(participants_withfMRI.shape[0]):\n",
    "    #depression\n",
    "    if participants_withfMRI['p2050_i2'].iloc[i] >= 3 or participants_withfMRI['p2060_i2'].iloc[i] >= 3:\n",
    "        l1.append(participants_withfMRI['eid'].iloc[i])\n",
    "    #anxiety\n",
    "    if participants_withfMRI['p2070_i2'].iloc[i] >= 3:\n",
    "        l2.append(participants_withfMRI['eid'].iloc[i])"
   ],
   "id": "72661492e4d3cf3f",
   "outputs": [],
   "execution_count": 10
  },
  {
   "metadata": {
    "ExecuteTime": {
     "end_time": "2025-06-02T22:03:07.013706Z",
     "start_time": "2025-06-02T22:03:07.012005Z"
    }
   },
   "cell_type": "code",
   "source": "",
   "id": "3c0157be1f24316d",
   "outputs": [],
   "execution_count": 10
  },
  {
   "metadata": {
    "ExecuteTime": {
     "end_time": "2025-06-02T22:03:07.766094Z",
     "start_time": "2025-06-02T22:03:07.661508Z"
    }
   },
   "cell_type": "code",
   "source": [
    "#CIDI\n",
    "history_anxiety_fields = ['20421','20420','20538','20425','20542','20543','20540','20541','20539','20537','20418','20426','20423','20429','20419','20422','20417','20427']\n",
    "df_fMRI['history_anxiety_num_criterias'] = None\n",
    "df_fMRI['history_anxiety_num_symptoms'] = None\n",
    "history_anxiety_subjs = []\n",
    "for i in range(participants_withfMRI.shape[0]):\n",
    "    num_criterias = 0\n",
    "    if participants_withfMRI['p20421'].iloc[i] == 1:\n",
    "        num_criterias = num_criterias + 1\n",
    "    if participants_withfMRI['p20420'].iloc[i] >= 6 or participants_withfMRI['p20420'].iloc[i] == -999:\n",
    "        num_criterias = num_criterias + 1\n",
    "    if participants_withfMRI['p20538'].iloc[i] == 1:\n",
    "        num_criterias = num_criterias + 1\n",
    "    if participants_withfMRI['p20425'].iloc[i] == 1 or participants_withfMRI['p20542'].iloc[i] == 1:\n",
    "        num_criterias = num_criterias + 1\n",
    "    if participants_withfMRI['p20543'].iloc[i] == 2 or participants_withfMRI['p20540'].iloc[i] == 1:\n",
    "        num_criterias = num_criterias + 1\n",
    "    if participants_withfMRI['p20541'].iloc[i] == 1 or participants_withfMRI['p20539'].iloc[i] == 3 or participants_withfMRI['p20537'].iloc[i] == 3:\n",
    "        num_criterias = num_criterias + 1\n",
    "    if participants_withfMRI['p20418'].iloc[i] >= 2:\n",
    "        num_criterias = num_criterias + 1\n",
    "    \n",
    "    # 3 somatic symptoms out of\n",
    "    num_symptoms = 0\n",
    "    if participants_withfMRI['p20426'].iloc[i] == 1:\n",
    "        num_symptoms = num_symptoms + 1\n",
    "    if participants_withfMRI['p20423'].iloc[i] == 1:\n",
    "        num_symptoms = num_symptoms + 1\n",
    "    if participants_withfMRI['p20429'].iloc[i] == 1:\n",
    "        num_symptoms = num_symptoms + 1\n",
    "    if participants_withfMRI['p20419'].iloc[i] == 1:\n",
    "        num_symptoms = num_symptoms + 1\n",
    "    if participants_withfMRI['p20422'].iloc[i] == 1:\n",
    "        num_symptoms = num_symptoms + 1\n",
    "    if participants_withfMRI['p20417'].iloc[i] == 1:\n",
    "        num_symptoms = num_symptoms + 1\n",
    "    if participants_withfMRI['p20427'].iloc[i] == 1:\n",
    "        num_symptoms = num_symptoms + 1\n",
    "        \n",
    "    if num_symptoms >= 3:\n",
    "        num_criterias = num_criterias + 1\n",
    "    \n",
    "    if num_criterias == 8:\n",
    "        history_anxiety_subjs.append(participants_withfMRI['eid'].iloc[i])\n",
    "        \n",
    "    df_fMRI.iloc[i, df_fMRI.columns.get_loc('history_anxiety_num_criterias')] = num_criterias\n",
    "    df_fMRI.iloc[i, df_fMRI.columns.get_loc('history_anxiety_num_symptoms')] = num_symptoms\n",
    "df_fMRI['history_anxiety'] = df_fMRI['history_anxiety_num_criterias'].apply(lambda x: (x == 8)).replace((1,0),('True','False'))\n",
    "print(\"number of history anxiety: \", df_fMRI.loc[df_fMRI['history_anxiety']==True, 'history_anxiety'].shape[0])"
   ],
   "id": "f7fce78befc01fb9",
   "outputs": [
    {
     "name": "stdout",
     "output_type": "stream",
     "text": [
      "number of history anxiety:  55\n"
     ]
    }
   ],
   "execution_count": 11
  },
  {
   "metadata": {
    "ExecuteTime": {
     "end_time": "2025-06-02T22:03:09.380728Z",
     "start_time": "2025-06-02T22:03:09.320872Z"
    }
   },
   "cell_type": "code",
   "source": [
    "#CIDI\n",
    "history_anxiety_fields = ['20421','20420','20538','20425','20542','20543','20540','20541','20539','20537','20418','20426','20423','20429','20419','20422','20417','20427']\n",
    "df_fMRI_repeat['history_anxiety_num_criterias'] = None\n",
    "df_fMRI_repeat['history_anxiety_num_symptoms'] = None\n",
    "history_anxiety_subjs = []\n",
    "for i in range(participants_withfMRI_repeat.shape[0]):\n",
    "    num_criterias = 0\n",
    "    if participants_withfMRI_repeat['p20421'].iloc[i] == 1:\n",
    "        num_criterias = num_criterias + 1\n",
    "    if participants_withfMRI_repeat['p20420'].iloc[i] >= 6 or participants_withfMRI_repeat['p20420'].iloc[i] == -999:\n",
    "        num_criterias = num_criterias + 1\n",
    "    if participants_withfMRI_repeat['p20538'].iloc[i] == 1:\n",
    "        num_criterias = num_criterias + 1\n",
    "    if participants_withfMRI_repeat['p20425'].iloc[i] == 1 or participants_withfMRI_repeat['p20542'].iloc[i] == 1:\n",
    "        num_criterias = num_criterias + 1\n",
    "    if participants_withfMRI_repeat['p20543'].iloc[i] == 2 or participants_withfMRI_repeat['p20540'].iloc[i] == 1:\n",
    "        num_criterias = num_criterias + 1\n",
    "    if participants_withfMRI_repeat['p20541'].iloc[i] == 1 or participants_withfMRI_repeat['p20539'].iloc[i] == 3 or participants_withfMRI_repeat['p20537'].iloc[i] == 3:\n",
    "        num_criterias = num_criterias + 1\n",
    "    if participants_withfMRI_repeat['p20418'].iloc[i] >= 2:\n",
    "        num_criterias = num_criterias + 1\n",
    "    \n",
    "    # 3 somatic symptoms out of\n",
    "    num_symptoms = 0\n",
    "    if participants_withfMRI_repeat['p20426'].iloc[i] == 1:\n",
    "        num_symptoms = num_symptoms + 1\n",
    "    if participants_withfMRI_repeat['p20423'].iloc[i] == 1:\n",
    "        num_symptoms = num_symptoms + 1\n",
    "    if participants_withfMRI_repeat['p20429'].iloc[i] == 1:\n",
    "        num_symptoms = num_symptoms + 1\n",
    "    if participants_withfMRI_repeat['p20419'].iloc[i] == 1:\n",
    "        num_symptoms = num_symptoms + 1\n",
    "    if participants_withfMRI_repeat['p20422'].iloc[i] == 1:\n",
    "        num_symptoms = num_symptoms + 1\n",
    "    if participants_withfMRI_repeat['p20417'].iloc[i] == 1:\n",
    "        num_symptoms = num_symptoms + 1\n",
    "    if participants_withfMRI_repeat['p20427'].iloc[i] == 1:\n",
    "        num_symptoms = num_symptoms + 1\n",
    "        \n",
    "    if num_symptoms >= 3:\n",
    "        num_criterias = num_criterias + 1\n",
    "    \n",
    "    if num_criterias == 8:\n",
    "        history_anxiety_subjs.append(participants_withfMRI_repeat['eid'].iloc[i])\n",
    "        \n",
    "    df_fMRI_repeat.iloc[i, df_fMRI_repeat.columns.get_loc('history_anxiety_num_criterias')] = num_criterias\n",
    "    df_fMRI_repeat.iloc[i, df_fMRI_repeat.columns.get_loc('history_anxiety_num_symptoms')] = num_symptoms\n",
    "df_fMRI_repeat['history_anxiety'] = df_fMRI_repeat['history_anxiety_num_criterias'].apply(lambda x: (x == 8)).replace((1,0),('True','False'))\n",
    "print(\"number of history anxiety: \", df_fMRI_repeat.loc[df_fMRI_repeat['history_anxiety']==True, 'history_anxiety'].shape[0])"
   ],
   "id": "e3ad3dcfc2ebb9ec",
   "outputs": [
    {
     "name": "stdout",
     "output_type": "stream",
     "text": [
      "number of history anxiety:  24\n"
     ]
    }
   ],
   "execution_count": 12
  },
  {
   "metadata": {
    "ExecuteTime": {
     "end_time": "2025-06-02T22:03:10.217139Z",
     "start_time": "2025-06-02T22:03:10.207307Z"
    }
   },
   "cell_type": "code",
   "source": [
    "anxietyTrait_baseline_fields_use = [fields_for_id_x(field) for field in anxietyTrait_baseline_fields]\n",
    "df_fMRI['anxietyTrait_baseline_score'] = participants_withfMRI[anxietyTrait_baseline_fields_use].sum(axis = 1)\n",
    "anxietyTrait_followup_fields_use = [fields_for_id_x(field) for field in anxietyTrait_followup_fields]\n",
    "df_fMRI['anxietyTrait_followup_score'] = participants_withfMRI[anxietyTrait_followup_fields_use].sum(axis = 1)\n",
    "df_fMRI['anxietyTrait_change_score'] = df_fMRI['anxietyTrait_followup_score'] - df_fMRI['anxietyTrait_baseline_score']\n",
    "print(\"number of anxietyTrait_baseline_score:\")\n",
    "for i in range(0,6):\n",
    "    print(f\"{i}: {df_fMRI.loc[(df_fMRI['anxietyTrait_baseline_score']==i) & (df_fMRI['anxietyTrait_change_score']==0)].shape[0]}\")\n",
    "print(\"number of anxietyTrait_followup_score:\")\n",
    "for i in range(0,6):\n",
    "    print(f\"{i}: {df_fMRI.loc[(df_fMRI['anxietyTrait_followup_score']==i) & (df_fMRI['anxietyTrait_change_score']==0)].shape[0]}\")\n",
    "print(\"number of anxietyTrait_change_score:\")\n",
    "for i in range(-5,6):\n",
    "    print(f\"{i}: {sum(df_fMRI['anxietyTrait_change_score']==i)}\")"
   ],
   "id": "fe76a7073d308af0",
   "outputs": [
    {
     "name": "stdout",
     "output_type": "stream",
     "text": [
      "number of anxietyTrait_baseline_score:\n",
      "0: 301\n",
      "1: 127\n",
      "2: 87\n",
      "3: 27\n",
      "4: 15\n",
      "5: 19\n",
      "number of anxietyTrait_followup_score:\n",
      "0: 301\n",
      "1: 127\n",
      "2: 87\n",
      "3: 27\n",
      "4: 15\n",
      "5: 19\n",
      "number of anxietyTrait_change_score:\n",
      "-5: 0\n",
      "-4: 0\n",
      "-3: 2\n",
      "-2: 47\n",
      "-1: 162\n",
      "0: 576\n",
      "1: 148\n",
      "2: 27\n",
      "3: 6\n",
      "4: 0\n",
      "5: 0\n"
     ]
    }
   ],
   "execution_count": 13
  },
  {
   "metadata": {
    "ExecuteTime": {
     "end_time": "2025-06-02T22:03:18.889134Z",
     "start_time": "2025-06-02T22:03:18.877749Z"
    }
   },
   "cell_type": "code",
   "source": [
    "# in repeated measures:\n",
    "anxietyTrait_baseline_fields_use = [fields_for_id_x(field) for field in anxietyTrait_baseline_fields]\n",
    "df_fMRI_repeat['anxietyTrait_baseline_score'] = participants_withfMRI[anxietyTrait_baseline_fields_use].sum(axis = 1)\n",
    "anxietyTrait_followup_fields_use = [fields_for_id_x(field) for field in anxietyTrait_followup_fields]\n",
    "df_fMRI_repeat['anxietyTrait_followup_score'] = participants_withfMRI[anxietyTrait_followup_fields_use].sum(axis = 1)\n",
    "df_fMRI_repeat['anxietyTrait_change_score'] = df_fMRI_repeat['anxietyTrait_followup_score'] - df_fMRI_repeat['anxietyTrait_baseline_score']\n",
    "print(\"number of anxietyTrait_baseline_score:\")\n",
    "for i in range(0,6):\n",
    "    print(f\"{i}: {df_fMRI_repeat.loc[(df_fMRI_repeat['anxietyTrait_baseline_score']==i) & (df_fMRI_repeat['anxietyTrait_change_score']==0)].shape[0]}\")\n",
    "print(\"number of anxietyTrait_followup_score:\")\n",
    "for i in range(0,6):\n",
    "    print(f\"{i}: {df_fMRI_repeat.loc[(df_fMRI_repeat['anxietyTrait_followup_score']==i) & (df_fMRI_repeat['anxietyTrait_change_score']==0)].shape[0]}\")\n",
    "print(\"number of anxietyTrait_change_score:\")\n",
    "for i in range(-5,6):\n",
    "    print(f\"{i}: {df_fMRI_repeat.loc[df_fMRI_repeat['anxietyTrait_change_score']==i].shape[0]}\")"
   ],
   "id": "fae4da4e74ef0574",
   "outputs": [
    {
     "name": "stdout",
     "output_type": "stream",
     "text": [
      "number of anxietyTrait_baseline_score:\n",
      "0: 128\n",
      "1: 46\n",
      "2: 34\n",
      "3: 13\n",
      "4: 6\n",
      "5: 10\n",
      "number of anxietyTrait_followup_score:\n",
      "0: 128\n",
      "1: 46\n",
      "2: 34\n",
      "3: 13\n",
      "4: 6\n",
      "5: 10\n",
      "number of anxietyTrait_change_score:\n",
      "-5: 0\n",
      "-4: 0\n",
      "-3: 1\n",
      "-2: 23\n",
      "-1: 69\n",
      "0: 237\n",
      "1: 68\n",
      "2: 8\n",
      "3: 2\n",
      "4: 0\n",
      "5: 0\n"
     ]
    }
   ],
   "execution_count": 14
  },
  {
   "metadata": {
    "ExecuteTime": {
     "end_time": "2025-06-02T22:03:24.568633Z",
     "start_time": "2025-06-02T22:03:24.566713Z"
    }
   },
   "cell_type": "code",
   "source": "",
   "id": "28b20f26bb7c0db8",
   "outputs": [],
   "execution_count": 14
  },
  {
   "metadata": {
    "ExecuteTime": {
     "end_time": "2025-06-02T22:03:26.058432Z",
     "start_time": "2025-06-02T22:03:26.052092Z"
    }
   },
   "cell_type": "code",
   "source": [
    "# Current anxiety at baseline\n",
    "GAD7_fields_name = [fields_for_id_x(field) for field in GAD7_fields]\n",
    "df_fMRI['GAD7_score'] = participants_withfMRI[GAD7_fields_name].sum(axis = 1)\n",
    "df_fMRI['Current_Anxiety'] = False\n",
    "df_fMRI.loc[df_fMRI['GAD7_score'] >= 10,'Current_Anxiety'] = True\n",
    "df_fMRI.loc[df_fMRI['GAD7_score'] < 5,'Current_no_Anxiety'] = True\n",
    "print('number of Current_Anxiety:', df_fMRI['Current_Anxiety'].sum())\n",
    "print('number of Current_no_Anxiety:', df_fMRI['Current_no_Anxiety'].sum())"
   ],
   "id": "4c18cf84bf318863",
   "outputs": [
    {
     "name": "stdout",
     "output_type": "stream",
     "text": [
      "number of Current_Anxiety: 210\n",
      "number of Current_no_Anxiety: 249\n"
     ]
    }
   ],
   "execution_count": 15
  },
  {
   "metadata": {
    "ExecuteTime": {
     "end_time": "2025-05-23T22:03:29.453856Z",
     "start_time": "2025-05-23T22:03:29.446540Z"
    }
   },
   "cell_type": "code",
   "source": [
    "# Current anxiety at baseline with two fMRI scan\n",
    "GAD7_fields_name = [fields_for_id_x(field) for field in GAD7_fields]\n",
    "df_fMRI_repeat['GAD7_score'] = participants_withfMRI_repeat[GAD7_fields_name].sum(axis = 1)\n",
    "df_fMRI_repeat['Current_Anxiety'] = False\n",
    "df_fMRI_repeat.loc[df_fMRI_repeat['GAD7_score'] >= 10,'Current_Anxiety'] = True\n",
    "df_fMRI_repeat.loc[df_fMRI_repeat['GAD7_score'] < 5,'Current_no_Anxiety'] = True\n",
    "print('number of Current_Anxiety:', df_fMRI_repeat['Current_Anxiety'].sum())\n",
    "print('number of Current_no_Anxiety:', df_fMRI_repeat['Current_no_Anxiety'].sum())"
   ],
   "id": "864aae14061368e3",
   "outputs": [
    {
     "name": "stdout",
     "output_type": "stream",
     "text": [
      "number of Current_Anxiety: 73\n",
      "number of Current_no_Anxiety: 1666\n"
     ]
    }
   ],
   "execution_count": 71
  },
  {
   "metadata": {
    "ExecuteTime": {
     "end_time": "2025-05-23T22:03:30.405010Z",
     "start_time": "2025-05-23T22:03:30.393346Z"
    }
   },
   "cell_type": "code",
   "source": [
    "# Current anxiety at follow up \n",
    "GAD7_fields_name = [fields_for_id_x(field) for field in GAD7_followup_fields]\n",
    "df_fMRI['GAD7_score_followup'] = participants_withfMRI[GAD7_fields_name].sum(axis = 1)\n",
    "df_fMRI['Current_Anxiety_followup'] = False\n",
    "df_fMRI.loc[df_fMRI['GAD7_score_followup'] >= 10,'Current_Anxiety_followup'] = True\n",
    "df_fMRI.loc[df_fMRI['GAD7_score_followup'] < 5,'Current_no_Anxiety_followup'] = True\n",
    "print('number of Current_Anxiety_followup:', df_fMRI['Current_Anxiety_followup'].sum())\n",
    "print('number of Current_no_Anxiety_followup:', df_fMRI['Current_no_Anxiety_followup'].sum())"
   ],
   "id": "9656834e6ae053da",
   "outputs": [
    {
     "name": "stdout",
     "output_type": "stream",
     "text": [
      "number of Current_Anxiety_followup: 709\n",
      "number of Current_no_Anxiety_followup: 22662\n"
     ]
    }
   ],
   "execution_count": 72
  },
  {
   "metadata": {
    "ExecuteTime": {
     "end_time": "2025-05-23T22:03:31.531664Z",
     "start_time": "2025-05-23T22:03:31.525699Z"
    }
   },
   "cell_type": "code",
   "source": [
    "# Current anxiety at follow up  with two fMRI scan\n",
    "GAD7_fields_name = [fields_for_id_x(field) for field in GAD7_followup_fields]\n",
    "df_fMRI_repeat['GAD7_score_followup'] = participants_withfMRI_repeat[GAD7_fields_name].sum(axis = 1)\n",
    "df_fMRI_repeat['Current_Anxiety_followup'] = False\n",
    "df_fMRI_repeat.loc[df_fMRI_repeat['GAD7_score_followup'] >= 10,'Current_Anxiety_followup'] = True\n",
    "df_fMRI_repeat.loc[df_fMRI_repeat['GAD7_score_followup'] < 5,'Current_no_Anxiety_followup'] = True\n",
    "print('number of Current_Anxiety_followup:', df_fMRI_repeat['Current_Anxiety_followup'].sum())\n",
    "print('number of Current_no_Anxiety_followup:', df_fMRI_repeat['Current_no_Anxiety_followup'].sum())"
   ],
   "id": "1d73ebb65d790ded",
   "outputs": [
    {
     "name": "stdout",
     "output_type": "stream",
     "text": [
      "number of Current_Anxiety_followup: 66\n",
      "number of Current_no_Anxiety_followup: 1749\n"
     ]
    }
   ],
   "execution_count": 73
  },
  {
   "metadata": {
    "ExecuteTime": {
     "end_time": "2025-05-23T22:03:32.385044Z",
     "start_time": "2025-05-23T22:03:32.356057Z"
    }
   },
   "cell_type": "code",
   "source": [
    "n1 = df_fMRI.loc[(df_fMRI['Current_Anxiety'] == True) & (df_fMRI['Current_Anxiety_followup'] == True)].shape[0]\n",
    "print(f'number of Anxiety at baseline and follow-up: {n1}')\n",
    "n2 = df_fMRI.loc[(df_fMRI['Current_Anxiety'] == True) & (df_fMRI['Current_Anxiety_followup'] == False)].shape[0]\n",
    "print(f'number of Anxiety at baseline but not follow-up: {n2}')\n",
    "n3 = df_fMRI.loc[(df_fMRI['Current_Anxiety'] == False) & (df_fMRI['Current_Anxiety_followup'] == True)].shape[0]\n",
    "print(f'number of Anxiety at follow-up but not baseline: {n3}')\n",
    "n4 = df_fMRI.loc[(df_fMRI['Current_Anxiety'] == False) & (df_fMRI['Current_Anxiety_followup'] == False)].shape[0]\n",
    "print(f'number of no Anxiety at baseline and follow-up: {n4}')\n",
    "n5 = df_fMRI.loc[(df_fMRI['Current_Anxiety'] == True) & (df_fMRI['Diagnosed_ICD10'] == True)].shape[0]\n",
    "print(f'number of current Anxiety with diagnose: {n5}')\n",
    "n6 = df_fMRI.loc[(df_fMRI['Current_Anxiety'] == True) & (df_fMRI['Diagnosed_ICD10'] == False)].shape[0]\n",
    "print(f'number of current Anxiety with no diagnose: {n6}')\n",
    "n7 = df_fMRI.loc[(df_fMRI['Current_Anxiety'] == True) & (df_fMRI['history_anxiety']==True)].shape[0]\n",
    "print(f'number of current Anxiety with anxiety history: {n7}')\n",
    "n8 = df_fMRI.loc[(df_fMRI['Current_Anxiety'] == True) & (df_fMRI['history_anxiety']==False)].shape[0]\n",
    "print(f'number of current Anxiety with no anxiety history: {n8}')"
   ],
   "id": "124984f80b876ec",
   "outputs": [
    {
     "name": "stdout",
     "output_type": "stream",
     "text": [
      "number of Anxiety at baseline and follow-up: 237\n",
      "number of Anxiety at baseline but not follow-up: 699\n",
      "number of Anxiety at follow-up but not baseline: 472\n",
      "number of no Anxiety at baseline and follow-up: 24440\n"
     ]
    },
    {
     "ename": "KeyError",
     "evalue": "'Diagnosed_ICD10'",
     "output_type": "error",
     "traceback": [
      "\u001B[0;31m---------------------------------------------------------------------------\u001B[0m",
      "\u001B[0;31mKeyError\u001B[0m                                  Traceback (most recent call last)",
      "File \u001B[0;32m~/PycharmProjects/UKB_local/.venv/lib/python3.13/site-packages/pandas/core/indexes/base.py:3805\u001B[0m, in \u001B[0;36mIndex.get_loc\u001B[0;34m(self, key)\u001B[0m\n\u001B[1;32m   3804\u001B[0m \u001B[38;5;28;01mtry\u001B[39;00m:\n\u001B[0;32m-> 3805\u001B[0m     \u001B[38;5;28;01mreturn\u001B[39;00m \u001B[38;5;28;43mself\u001B[39;49m\u001B[38;5;241;43m.\u001B[39;49m\u001B[43m_engine\u001B[49m\u001B[38;5;241;43m.\u001B[39;49m\u001B[43mget_loc\u001B[49m\u001B[43m(\u001B[49m\u001B[43mcasted_key\u001B[49m\u001B[43m)\u001B[49m\n\u001B[1;32m   3806\u001B[0m \u001B[38;5;28;01mexcept\u001B[39;00m \u001B[38;5;167;01mKeyError\u001B[39;00m \u001B[38;5;28;01mas\u001B[39;00m err:\n",
      "File \u001B[0;32mindex.pyx:167\u001B[0m, in \u001B[0;36mpandas._libs.index.IndexEngine.get_loc\u001B[0;34m()\u001B[0m\n",
      "File \u001B[0;32mindex.pyx:196\u001B[0m, in \u001B[0;36mpandas._libs.index.IndexEngine.get_loc\u001B[0;34m()\u001B[0m\n",
      "File \u001B[0;32mpandas/_libs/hashtable_class_helper.pxi:7081\u001B[0m, in \u001B[0;36mpandas._libs.hashtable.PyObjectHashTable.get_item\u001B[0;34m()\u001B[0m\n",
      "File \u001B[0;32mpandas/_libs/hashtable_class_helper.pxi:7089\u001B[0m, in \u001B[0;36mpandas._libs.hashtable.PyObjectHashTable.get_item\u001B[0;34m()\u001B[0m\n",
      "\u001B[0;31mKeyError\u001B[0m: 'Diagnosed_ICD10'",
      "\nThe above exception was the direct cause of the following exception:\n",
      "\u001B[0;31mKeyError\u001B[0m                                  Traceback (most recent call last)",
      "Cell \u001B[0;32mIn[74], line 9\u001B[0m\n\u001B[1;32m      7\u001B[0m n4 \u001B[38;5;241m=\u001B[39m df_fMRI\u001B[38;5;241m.\u001B[39mloc[(df_fMRI[\u001B[38;5;124m'\u001B[39m\u001B[38;5;124mCurrent_Anxiety\u001B[39m\u001B[38;5;124m'\u001B[39m] \u001B[38;5;241m==\u001B[39m \u001B[38;5;28;01mFalse\u001B[39;00m) \u001B[38;5;241m&\u001B[39m (df_fMRI[\u001B[38;5;124m'\u001B[39m\u001B[38;5;124mCurrent_Anxiety_followup\u001B[39m\u001B[38;5;124m'\u001B[39m] \u001B[38;5;241m==\u001B[39m \u001B[38;5;28;01mFalse\u001B[39;00m)]\u001B[38;5;241m.\u001B[39mshape[\u001B[38;5;241m0\u001B[39m]\n\u001B[1;32m      8\u001B[0m \u001B[38;5;28mprint\u001B[39m(\u001B[38;5;124mf\u001B[39m\u001B[38;5;124m'\u001B[39m\u001B[38;5;124mnumber of no Anxiety at baseline and follow-up: \u001B[39m\u001B[38;5;132;01m{\u001B[39;00mn4\u001B[38;5;132;01m}\u001B[39;00m\u001B[38;5;124m'\u001B[39m)\n\u001B[0;32m----> 9\u001B[0m n5 \u001B[38;5;241m=\u001B[39m df_fMRI\u001B[38;5;241m.\u001B[39mloc[(df_fMRI[\u001B[38;5;124m'\u001B[39m\u001B[38;5;124mCurrent_Anxiety\u001B[39m\u001B[38;5;124m'\u001B[39m] \u001B[38;5;241m==\u001B[39m \u001B[38;5;28;01mTrue\u001B[39;00m) \u001B[38;5;241m&\u001B[39m (\u001B[43mdf_fMRI\u001B[49m\u001B[43m[\u001B[49m\u001B[38;5;124;43m'\u001B[39;49m\u001B[38;5;124;43mDiagnosed_ICD10\u001B[39;49m\u001B[38;5;124;43m'\u001B[39;49m\u001B[43m]\u001B[49m \u001B[38;5;241m==\u001B[39m \u001B[38;5;28;01mTrue\u001B[39;00m)]\u001B[38;5;241m.\u001B[39mshape[\u001B[38;5;241m0\u001B[39m]\n\u001B[1;32m     10\u001B[0m \u001B[38;5;28mprint\u001B[39m(\u001B[38;5;124mf\u001B[39m\u001B[38;5;124m'\u001B[39m\u001B[38;5;124mnumber of current Anxiety with diagnose: \u001B[39m\u001B[38;5;132;01m{\u001B[39;00mn5\u001B[38;5;132;01m}\u001B[39;00m\u001B[38;5;124m'\u001B[39m)\n\u001B[1;32m     11\u001B[0m n6 \u001B[38;5;241m=\u001B[39m df_fMRI\u001B[38;5;241m.\u001B[39mloc[(df_fMRI[\u001B[38;5;124m'\u001B[39m\u001B[38;5;124mCurrent_Anxiety\u001B[39m\u001B[38;5;124m'\u001B[39m] \u001B[38;5;241m==\u001B[39m \u001B[38;5;28;01mTrue\u001B[39;00m) \u001B[38;5;241m&\u001B[39m (df_fMRI[\u001B[38;5;124m'\u001B[39m\u001B[38;5;124mDiagnosed_ICD10\u001B[39m\u001B[38;5;124m'\u001B[39m] \u001B[38;5;241m==\u001B[39m \u001B[38;5;28;01mFalse\u001B[39;00m)]\u001B[38;5;241m.\u001B[39mshape[\u001B[38;5;241m0\u001B[39m]\n",
      "File \u001B[0;32m~/PycharmProjects/UKB_local/.venv/lib/python3.13/site-packages/pandas/core/frame.py:4102\u001B[0m, in \u001B[0;36mDataFrame.__getitem__\u001B[0;34m(self, key)\u001B[0m\n\u001B[1;32m   4100\u001B[0m \u001B[38;5;28;01mif\u001B[39;00m \u001B[38;5;28mself\u001B[39m\u001B[38;5;241m.\u001B[39mcolumns\u001B[38;5;241m.\u001B[39mnlevels \u001B[38;5;241m>\u001B[39m \u001B[38;5;241m1\u001B[39m:\n\u001B[1;32m   4101\u001B[0m     \u001B[38;5;28;01mreturn\u001B[39;00m \u001B[38;5;28mself\u001B[39m\u001B[38;5;241m.\u001B[39m_getitem_multilevel(key)\n\u001B[0;32m-> 4102\u001B[0m indexer \u001B[38;5;241m=\u001B[39m \u001B[38;5;28;43mself\u001B[39;49m\u001B[38;5;241;43m.\u001B[39;49m\u001B[43mcolumns\u001B[49m\u001B[38;5;241;43m.\u001B[39;49m\u001B[43mget_loc\u001B[49m\u001B[43m(\u001B[49m\u001B[43mkey\u001B[49m\u001B[43m)\u001B[49m\n\u001B[1;32m   4103\u001B[0m \u001B[38;5;28;01mif\u001B[39;00m is_integer(indexer):\n\u001B[1;32m   4104\u001B[0m     indexer \u001B[38;5;241m=\u001B[39m [indexer]\n",
      "File \u001B[0;32m~/PycharmProjects/UKB_local/.venv/lib/python3.13/site-packages/pandas/core/indexes/base.py:3812\u001B[0m, in \u001B[0;36mIndex.get_loc\u001B[0;34m(self, key)\u001B[0m\n\u001B[1;32m   3807\u001B[0m     \u001B[38;5;28;01mif\u001B[39;00m \u001B[38;5;28misinstance\u001B[39m(casted_key, \u001B[38;5;28mslice\u001B[39m) \u001B[38;5;129;01mor\u001B[39;00m (\n\u001B[1;32m   3808\u001B[0m         \u001B[38;5;28misinstance\u001B[39m(casted_key, abc\u001B[38;5;241m.\u001B[39mIterable)\n\u001B[1;32m   3809\u001B[0m         \u001B[38;5;129;01mand\u001B[39;00m \u001B[38;5;28many\u001B[39m(\u001B[38;5;28misinstance\u001B[39m(x, \u001B[38;5;28mslice\u001B[39m) \u001B[38;5;28;01mfor\u001B[39;00m x \u001B[38;5;129;01min\u001B[39;00m casted_key)\n\u001B[1;32m   3810\u001B[0m     ):\n\u001B[1;32m   3811\u001B[0m         \u001B[38;5;28;01mraise\u001B[39;00m InvalidIndexError(key)\n\u001B[0;32m-> 3812\u001B[0m     \u001B[38;5;28;01mraise\u001B[39;00m \u001B[38;5;167;01mKeyError\u001B[39;00m(key) \u001B[38;5;28;01mfrom\u001B[39;00m \u001B[38;5;21;01merr\u001B[39;00m\n\u001B[1;32m   3813\u001B[0m \u001B[38;5;28;01mexcept\u001B[39;00m \u001B[38;5;167;01mTypeError\u001B[39;00m:\n\u001B[1;32m   3814\u001B[0m     \u001B[38;5;66;03m# If we have a listlike key, _check_indexing_error will raise\u001B[39;00m\n\u001B[1;32m   3815\u001B[0m     \u001B[38;5;66;03m#  InvalidIndexError. Otherwise we fall through and re-raise\u001B[39;00m\n\u001B[1;32m   3816\u001B[0m     \u001B[38;5;66;03m#  the TypeError.\u001B[39;00m\n\u001B[1;32m   3817\u001B[0m     \u001B[38;5;28mself\u001B[39m\u001B[38;5;241m.\u001B[39m_check_indexing_error(key)\n",
      "\u001B[0;31mKeyError\u001B[0m: 'Diagnosed_ICD10'"
     ]
    }
   ],
   "execution_count": 74
  },
  {
   "metadata": {
    "ExecuteTime": {
     "end_time": "2025-05-23T22:03:33.026780Z",
     "start_time": "2025-05-23T22:03:33.022369Z"
    }
   },
   "cell_type": "code",
   "source": [
    "# participants have repeated fMRI data\n",
    "n1 = df_fMRI_repeat.loc[(df_fMRI_repeat['Current_Anxiety'] == True) & (df_fMRI_repeat['Current_Anxiety_followup'] == True)].shape[0]\n",
    "print(f'number of Anxiety at baseline and follow-up: {n1}')\n",
    "n2 = df_fMRI_repeat.loc[(df_fMRI_repeat['Current_Anxiety'] == True) & (df_fMRI_repeat['Current_Anxiety_followup'] == False)].shape[0]\n",
    "print(f'number of Anxiety at baseline but not follow-up: {n2}')\n",
    "n3 = df_fMRI_repeat.loc[(df_fMRI_repeat['Current_Anxiety'] == False) & (df_fMRI_repeat['Current_Anxiety_followup'] == True)].shape[0]\n",
    "print(f'number of Anxiety at follow-up but not baseline: {n3}')\n",
    "n4 = df_fMRI_repeat.loc[(df_fMRI_repeat['Current_Anxiety'] == False) & (df_fMRI_repeat['Current_Anxiety_followup'] == False)].shape[0]\n",
    "print(f'number of no Anxiety at baseline and follow-up: {n4}')\n",
    "n5 = df_fMRI_repeat.loc[(df_fMRI_repeat['Current_Anxiety'] == True) & (df_fMRI_repeat['history_anxiety']==True)].shape[0]\n",
    "print(f'number of current Anxiety with anxiety history: {n5}')\n",
    "n6 = df_fMRI_repeat.loc[(df_fMRI_repeat['Current_Anxiety'] == True) & (df_fMRI_repeat['history_anxiety']==False)].shape[0]\n",
    "print(f'number of current Anxiety with no anxiety history: {n6}')"
   ],
   "id": "801769cf7e29df96",
   "outputs": [
    {
     "name": "stdout",
     "output_type": "stream",
     "text": [
      "number of Anxiety at baseline and follow-up: 20\n",
      "number of Anxiety at baseline but not follow-up: 53\n",
      "number of Anxiety at follow-up but not baseline: 46\n",
      "number of no Anxiety at baseline and follow-up: 1893\n",
      "number of current Anxiety with anxiety history: 21\n",
      "number of current Anxiety with no anxiety history: 52\n"
     ]
    }
   ],
   "execution_count": 75
  },
  {
   "metadata": {
    "ExecuteTime": {
     "end_time": "2025-05-23T22:03:34.433627Z",
     "start_time": "2025-05-23T22:03:34.140428Z"
    }
   },
   "cell_type": "code",
   "source": [
    "# hospital data-linkage: \n",
    "# Data-Field 41270 \n",
    "from ast import literal_eval\n",
    "df_fMRI['ICD10'] = participants_withfMRI['p41270'].apply(\n",
    "    lambda x: extract_strings(['F40','F41'], literal_eval(x))\n",
    "    if isinstance(x, str)\n",
    "    else []\n",
    ")\n",
    "df_fMRI['Diagnosed_ICD10'] = False\n",
    "df_fMRI.loc[df_fMRI['ICD10'].apply(lambda x: x != []), 'Diagnosed_ICD10'] = True\n",
    "print('number of Diagnosed in ICD10:', df_fMRI['Diagnosed_ICD10'].sum())\n",
    "# Data-Field 41271 \n",
    "df_fMRI['ICD9'] = participants_withfMRI['p41271'].apply(\n",
    "    lambda x: extract_strings(['300'], literal_eval(x))\n",
    "    if isinstance(x, str)\n",
    "    else []\n",
    ")\n",
    "df_fMRI['Diagnosed_ICD9'] = False\n",
    "df_fMRI.loc[df_fMRI['ICD9'].apply(lambda x: x != []), 'Diagnosed_ICD9'] = True\n",
    "print('number of Diagnosed in ICD9:', df_fMRI['Diagnosed_ICD9'].sum())"
   ],
   "id": "36dcaa7aeb94104e",
   "outputs": [
    {
     "name": "stdout",
     "output_type": "stream",
     "text": [
      "number of Diagnosed in ICD10: 841\n",
      "number of Diagnosed in ICD9: 2\n"
     ]
    }
   ],
   "execution_count": 76
  },
  {
   "metadata": {
    "ExecuteTime": {
     "end_time": "2025-05-23T22:03:36.388015Z",
     "start_time": "2025-05-23T22:03:36.081619Z"
    }
   },
   "cell_type": "code",
   "source": [
    "import pandas as pd\n",
    "from collections import Counter\n",
    "from ast import literal_eval as safe_literal_eval\n",
    "\n",
    "# Subtype dictionary\n",
    "subtype_dic = {\n",
    "    'F400': 'Agoraphobia',\n",
    "    'F401': 'Social_phobias',\n",
    "    'F402': 'Specific_phobias',\n",
    "    'F408': 'Other_phobic_anxiety_disorders',\n",
    "    'F409': 'Unspecified_phobic_anxiety_disorder',\n",
    "    'F410': 'Panic_disorder',\n",
    "    'F411': 'GAD',\n",
    "    'F412': 'Mixed_anxiety_and_depressive_disorder',\n",
    "    'F413': 'Other_mixed_anxiety_disorders',\n",
    "    'F418': 'Other_specified_anxiety_disorders',\n",
    "    'F419': 'Unspecified_anxiety_disorders',\n",
    "    'F42': 'OCD'\n",
    "}\n",
    "\n",
    "# Function to find the first matching subtype from a list of ICD-10 codes\n",
    "def get_subtype(icd_codes, subtype_dic):\n",
    "    \"\"\"\n",
    "    Match a list of ICD-10 codes to the first matching subtype in the dictionary.\n",
    "    \n",
    "    Parameters:\n",
    "    - icd_codes (list): List of ICD-10 diagnosis codes.\n",
    "    - subtype_dic (dict): Dictionary of subtypes with ICD-10 codes as keys.\n",
    "\n",
    "    Returns:\n",
    "    - str: Matching subtype name, or None if no match is found.\n",
    "    \"\"\"\n",
    "    if isinstance(icd_codes, list):  # Ensure the input is a list\n",
    "        for code in icd_codes:\n",
    "            for subtype_code, subtype_name in subtype_dic.items():\n",
    "                if code.startswith(subtype_code):  # Match ICD code prefix\n",
    "                    return subtype_name\n",
    "    return None\n",
    "\n",
    "# Apply the function to the dataset\n",
    "df_fMRI.loc[:, 'ICD10_diagnose'] = participants_withfMRI['p41270'].apply(\n",
    "    lambda x: get_subtype(safe_literal_eval(x), subtype_dic) if isinstance(x, str) else None\n",
    ")\n",
    "\n",
    "# Count occurrences of each subtype using Counter\n",
    "subtype_counts = Counter(\n",
    "    subtype for subtype in df_fMRI['ICD10_diagnose'] if subtype is not None\n",
    ")\n",
    "\n",
    "# Print results in a readable format\n",
    "print(\"Subtype Counts:\")\n",
    "for subtype, count in subtype_counts.items():\n",
    "    print(f\"{subtype}: {count}\")\n"
   ],
   "id": "3e68508a97413c58",
   "outputs": [
    {
     "name": "stdout",
     "output_type": "stream",
     "text": [
      "Subtype Counts:\n",
      "GAD: 16\n",
      "Unspecified_anxiety_disorders: 562\n",
      "Specific_phobias: 54\n",
      "Mixed_anxiety_and_depressive_disorder: 149\n",
      "Panic_disorder: 48\n",
      "Social_phobias: 2\n",
      "OCD: 6\n",
      "Other_phobic_anxiety_disorders: 5\n",
      "Agoraphobia: 2\n",
      "Other_mixed_anxiety_disorders: 1\n",
      "Other_specified_anxiety_disorders: 2\n"
     ]
    }
   ],
   "execution_count": 77
  },
  {
   "metadata": {
    "ExecuteTime": {
     "end_time": "2025-05-23T22:03:38.518597Z",
     "start_time": "2025-05-23T22:03:37.571347Z"
    }
   },
   "cell_type": "code",
   "source": [
    "# Self-reported lifetime professional diagnosis [Data-Field 29000]\n",
    "Self_Reported_MedicalCondition = participants_withfMRI.filter(like='29000')\n",
    "\n",
    "# Anxiety disorder codes (from 10 to 15 inclusive)\n",
    "anxiety_codes = list(range(10, 16))\n",
    "\n",
    "# Function to safely check for a code in the list\n",
    "def safe_check_code(row, target_code):\n",
    "    \"\"\"\n",
    "    Safely check if a target code exists in a list of codes.\n",
    "    \n",
    "    Parameters:\n",
    "    - row: Input data (string expected to be a list representation)\n",
    "    - target_code: Code to search for in the list\n",
    "    \n",
    "    Returns:\n",
    "    - bool: True if code is found, False otherwise\n",
    "    \"\"\"\n",
    "    try:\n",
    "        if isinstance(row, str) and row.strip():\n",
    "            parsed_row = safe_literal_eval(row)  # Convert string to list safely\n",
    "            if isinstance(parsed_row, list):\n",
    "                return target_code in parsed_row\n",
    "    except (ValueError, SyntaxError):  # Handle invalid string parsing\n",
    "        pass\n",
    "    return False\n",
    "\n",
    "# Loop through the anxiety disorder codes and add a binary column for each\n",
    "for code in anxiety_codes:\n",
    "    col_name = f\"Self_Reported_diagnosis_{code}\"  # Dynamically name the column\n",
    "    df_fMRI[col_name] = Self_Reported_MedicalCondition['p29000'].apply(\n",
    "        lambda row: safe_check_code(row, code)\n",
    "    )\n",
    "\n",
    "# Combine all Self_Reported_diagnosis columns into one final binary column\n",
    "columns_self_reported = df_fMRI.filter(like='Self_Reported_diagnosis_')\n",
    "df_fMRI['Self_Reported_diagnosis'] = columns_self_reported.apply(\n",
    "    lambda row: row.any(), axis=1\n",
    ")\n",
    "\n",
    "# Convert True/False to 'True'/'False' strings\n",
    "df_fMRI['Self_Reported_diagnosis'] = df_fMRI['Self_Reported_diagnosis'].replace(\n",
    "    {True: 'True', False: 'False'}\n",
    ")\n",
    "\n",
    "# Print the number of self-reported diagnoses\n",
    "num_self_reported = df_fMRI['Self_Reported_diagnosis'].eq('True').sum()\n",
    "print(\"Number of self-reported diagnoses:\", num_self_reported)"
   ],
   "id": "8700025adf56e906",
   "outputs": [
    {
     "name": "stdout",
     "output_type": "stream",
     "text": [
      "Number of self-reported diagnoses: 1419\n"
     ]
    }
   ],
   "execution_count": 78
  },
  {
   "metadata": {
    "ExecuteTime": {
     "end_time": "2025-05-08T22:22:14.928044Z",
     "start_time": "2025-05-08T22:22:14.158435Z"
    }
   },
   "cell_type": "code",
   "source": [
    "Self_Reported_MedicalCondition = participants_withfMRI.filter(like='20002_i2')\n",
    "\n",
    "# Target anxiety codes for self-reported medical conditions\n",
    "anxiety_codes = [1615, 1287]\n",
    "\n",
    "# Function to check if a target code exists in the row\n",
    "def contains_code(row, code):\n",
    "    \"\"\"\n",
    "    Check if the given code exists in any column of the row.\n",
    "\n",
    "    Parameters:\n",
    "    - row: pd.Series, row of the DataFrame\n",
    "    - code: int, target code to match\n",
    "\n",
    "    Returns:\n",
    "    - bool: True if code is found, False otherwise\n",
    "    \"\"\"\n",
    "    return (row == code).any()\n",
    "\n",
    "# Dynamically create binary columns for each code\n",
    "for code in anxiety_codes:\n",
    "    col_name = f\"Self_Reported_MedicalCondition_{code}\"\n",
    "    df_fMRI[col_name] = Self_Reported_MedicalCondition.apply(\n",
    "        lambda row: contains_code(row, code), axis=1\n",
    "    )\n",
    "\n",
    "# Combine all individual diagnosis columns into a final summary column\n",
    "columns_med_conditions = df_fMRI.filter(like='Self_Reported_MedicalCondition_')\n",
    "df_fMRI['Self_Reported_MedicalCondition'] = columns_med_conditions.any(axis=1)\n",
    "\n",
    "# Convert True/False to 'True'/'False' strings\n",
    "df_fMRI['Self_Reported_MedicalCondition'] = df_fMRI['Self_Reported_MedicalCondition'].replace(\n",
    "    {True: 'True', False: 'False'}\n",
    ")\n",
    "\n",
    "# Print the number of self-reported medical conditions\n",
    "num_self_reported = df_fMRI['Self_Reported_MedicalCondition'].eq('True').sum()\n",
    "print(\"Number of self-reported medical conditions:\", num_self_reported)"
   ],
   "id": "67909346456c72ce",
   "outputs": [
    {
     "name": "stdout",
     "output_type": "stream",
     "text": [
      "Number of self-reported medical conditions: 709\n"
     ]
    }
   ],
   "execution_count": 50
  },
  {
   "metadata": {
    "ExecuteTime": {
     "end_time": "2025-05-08T22:22:23.682366Z",
     "start_time": "2025-05-08T22:22:23.676632Z"
    }
   },
   "cell_type": "code",
   "source": [
    "# 3. Self-reporting of Ever been offered/sought treatment for anxiety [Data-Field 21062]\n",
    "Self_Reported_MedicalCondition = participants_withfMRI.filter(like='21062')\n",
    "anxiety_code = [1]\n",
    "for i in range(len(anxiety_code)):\n",
    "    code = anxiety_code[i]\n",
    "    print(code)\n",
    "    added_item = 'Self_Reported_Treatment'\n",
    "    df_fMRI[added_item] = Self_Reported_MedicalCondition['p21062'].apply(lambda row: (row == code)).replace((1,0),('True','False'))\n",
    "print(\"number of self-reporting of medical conditions: \", df_fMRI.loc[df_fMRI[added_item]==True, added_item].shape[0])"
   ],
   "id": "50c7896813d4627e",
   "outputs": [
    {
     "name": "stdout",
     "output_type": "stream",
     "text": [
      "1\n",
      "number of self-reporting of medical conditions:  5040\n"
     ]
    }
   ],
   "execution_count": 51
  },
  {
   "metadata": {
    "ExecuteTime": {
     "end_time": "2025-05-08T22:22:34.079727Z",
     "start_time": "2025-05-08T22:22:34.064120Z"
    }
   },
   "cell_type": "code",
   "source": [
    "GAD_score_file_path = os.path.join(data_dir,'gad_score.csv')\n",
    "df_fMRI[['eid','GAD7_score']].to_csv(GAD_score_file_path, index=False)"
   ],
   "id": "f06f30aca5d88f81",
   "outputs": [],
   "execution_count": 52
  },
  {
   "metadata": {
    "ExecuteTime": {
     "end_time": "2025-05-08T22:22:42.692846Z",
     "start_time": "2025-05-08T22:22:42.296713Z"
    }
   },
   "cell_type": "code",
   "source": [
    "# subjects with anxiety\n",
    "judgment_columns = ['history_anxiety', 'Diagnosed_ICD10', 'Diagnosed_ICD9', 'Self_Reported_diagnosis', 'Self_Reported_Treatment', 'Self_Reported_MedicalCondition', 'Current_Anxiety', ]\n",
    "df_fMRI['anxiety'] = df_fMRI[judgment_columns].apply(lambda row: (row == True).any(), axis=1).replace((1,0),('True','False'))\n",
    "print(\"number of anxiety: \", df_fMRI.loc[df_fMRI['anxiety']==True, 'anxiety'].shape[0])"
   ],
   "id": "bfca2fffa53c0d79",
   "outputs": [
    {
     "name": "stdout",
     "output_type": "stream",
     "text": [
      "number of anxiety:  6236\n"
     ]
    }
   ],
   "execution_count": 53
  },
  {
   "metadata": {
    "ExecuteTime": {
     "end_time": "2025-05-08T22:23:23.294569Z",
     "start_time": "2025-05-08T22:23:23.285562Z"
    }
   },
   "cell_type": "code",
   "source": [
    "print(f'Number of participants with fMRI time series: {df_fMRI.shape[0]}')\n",
    "for c in judgment_columns:\n",
    "    n = sum(df_fMRI[c]==True)\n",
    "    print(f'Number of participants with {c}: {n}')"
   ],
   "id": "7dab96da684656e9",
   "outputs": [
    {
     "name": "stdout",
     "output_type": "stream",
     "text": [
      "Number of participants with fMRI time series: 25848\n",
      "Number of participants with history_anxiety: 1782\n",
      "Number of participants with Diagnosed_ICD10: 841\n",
      "Number of participants with Diagnosed_ICD9: 2\n",
      "Number of participants with Self_Reported_diagnosis: 0\n",
      "Number of participants with Self_Reported_Treatment: 5040\n",
      "Number of participants with Self_Reported_MedicalCondition: 0\n",
      "Number of participants with Current_Anxiety: 936\n"
     ]
    }
   ],
   "execution_count": 55
  },
  {
   "metadata": {
    "ExecuteTime": {
     "end_time": "2025-05-08T22:23:34.713335Z",
     "start_time": "2025-05-08T22:23:34.351749Z"
    }
   },
   "cell_type": "code",
   "source": [
    "#history_columns = ['history_anxiety', 'Diagnosed_ICD10', 'Diagnosed_ICD9','Current_Anxiety']\n",
    "hospital_columns = ['Diagnosed_ICD10', 'Diagnosed_ICD9']\n",
    "#hospital_columns = ['Diagnosed_ICD10']\n",
    "df_fMRI['hospital_anxiety'] = df_fMRI[hospital_columns].apply(lambda row: (row == True).any(), axis=1).replace((1,0),('True','False'))\n",
    "sum((df_fMRI['hospital_anxiety'] == True))"
   ],
   "id": "cc6f6aac6fba69e2",
   "outputs": [
    {
     "data": {
      "text/plain": [
       "843"
      ]
     },
     "execution_count": 56,
     "metadata": {},
     "output_type": "execute_result"
    }
   ],
   "execution_count": 56
  },
  {
   "metadata": {},
   "cell_type": "code",
   "outputs": [],
   "execution_count": null,
   "source": "",
   "id": "bcdcb498b6fa7876"
  }
 ],
 "metadata": {
  "kernelspec": {
   "display_name": "Python 3",
   "language": "python",
   "name": "python3"
  },
  "language_info": {
   "codemirror_mode": {
    "name": "ipython",
    "version": 2
   },
   "file_extension": ".py",
   "mimetype": "text/x-python",
   "name": "python",
   "nbconvert_exporter": "python",
   "pygments_lexer": "ipython2",
   "version": "2.7.6"
  }
 },
 "nbformat": 4,
 "nbformat_minor": 5
}
